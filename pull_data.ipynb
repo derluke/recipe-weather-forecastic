{
 "cells": [
  {
   "cell_type": "code",
   "execution_count": 1,
   "metadata": {},
   "outputs": [],
   "source": [
    "import datetime as dt\n",
    "\n",
    "import datarobot as dr\n",
    "from logzero import logger\n",
    "import pandas as pd\n",
    "import yaml\n",
    "\n",
    "from query_youtube import get_videos, compile_data, convert_to_dataframe\n",
    "\n",
    "CONFIG_FILE = \"config.yaml\"\n",
    "CURRENT_HOUR = pd.Timestamp.now().floor(\"h\")\n",
    "\n",
    "with open(CONFIG_FILE, \"r\") as f:\n",
    "    config = yaml.load(f, Loader=yaml.FullLoader)\n",
    "\n",
    "with open(\"credentials.yaml\", \"r\") as f:\n",
    "    credentials = yaml.load(f, Loader=yaml.FullLoader)\n",
    "    YOUTUBE_API_KEY = credentials[\"youtube_api_key\"]\n",
    "    CLIENT = dr.Client(endpoint=credentials[\"datarobot\"][\"endpoint\"], token=credentials[\"datarobot\"][\"api_token\"])\n"
   ]
  },
  {
   "cell_type": "code",
   "execution_count": 2,
   "metadata": {},
   "outputs": [],
   "source": [
    "def check_if_dataset_exists(name: str) -> str | None:\n",
    "    \"\"\"\n",
    "    Check if a dataset with the given name exists in the AI Catalog\n",
    "    \"\"\"\n",
    "    datasets = dr.Dataset.list()\n",
    "    return next((dataset.id for dataset in datasets if dataset.name == name), None)\n",
    "\n",
    "\n",
    "def write_new_dataset_to_catalog(df: pd.DataFrame, dataset_name) -> str:\n",
    "    \"\"\"\n",
    "    Write the metadata and stats dataframes to the AI Catalog\n",
    "    \"\"\"\n",
    "    dr_url = CLIENT.endpoint.split(\"/api\")[0]\n",
    "    catalog_id = dr.Dataset.create_from_in_memory_data(df, fname=dataset_name).id\n",
    "    logger.info(f\"Dataset {dataset_name} created: {dr_url + '/' + catalog_id}\")\n",
    "    return catalog_id\n",
    "\n",
    "\n",
    "def write_new_version_to_catalog(stats_df: pd.DataFrame, dataset_id: str) -> None:\n",
    "    \"\"\"\n",
    "    Write a new version of a dataset to the AI Catalog\n",
    "    \"\"\"\n",
    "    dr_url = CLIENT.endpoint.split(\"/api\")[0]\n",
    "    current_stats = dr.Dataset.get(dataset_id).get_as_dataframe()\n",
    "    if max(pd.to_datetime(current_stats[\"AS_OF_DATE\"])) < CURRENT_HOUR:\n",
    "        full_stats = pd.concat([current_stats, stats_df]).reset_index(drop=True)\n",
    "        dr.Dataset.create_version_from_in_memory_data(dataset_id, full_stats)\n",
    "        logger.info(f\"New version of dataset created: {dr_url + '/' + dataset_id}\")\n",
    "    else:\n",
    "        logger.info(\"Dataset already up to date. Not writing new version.\")\n",
    "\n",
    "def remove_old_dataset_versions(client: dr.client.RESTClientObject, dataset_id: str):\n",
    "    \"\"\"\n",
    "    Clean up dataset when it gets too big\n",
    "    \"\"\"\n",
    "    url = f\"datasets/{dataset_id}/versions/\"\n",
    "    dataset_versions = client.get(url).json()\n",
    "    logger.info(f\"Found {dataset_versions['count']} versions of {dataset_id}\")\n",
    "    if dataset_versions['count'] > 75:\n",
    "        sorted_versions = sorted(dataset_versions['data'], key=lambda x: pd.to_datetime(x['creationDate']))\n",
    "        for version in sorted_versions[:-50]:\n",
    "            url = f\"datasets/{dataset_id}/versions/{version['versionId']}\"\n",
    "            client.delete(url)\n",
    "        logger.info(f\"Deleted {dataset_versions['count'] - 50} versions of {dataset_id}\")"
   ]
  },
  {
   "cell_type": "code",
   "execution_count": 3,
   "metadata": {},
   "outputs": [
    {
     "name": "stderr",
     "output_type": "stream",
     "text": [
      "[I 240517 11:16:57 3421666486:16] Pulling data from playlist Endless Summer Vacation\n",
      "[I 240517 11:16:57 query_youtube:81] Pulled Youtube Metadata on \"Flowers\" \n",
      "[I 240517 11:16:57 query_youtube:81] Pulled Youtube Metadata on \"Jaded\" \n",
      "[I 240517 11:16:57 query_youtube:81] Pulled Youtube Metadata on \"Rose Colored Lenses\" \n",
      "[I 240517 11:16:57 query_youtube:81] Pulled Youtube Metadata on \"Used To Be Young\" \n",
      "[I 240517 11:16:57 query_youtube:81] Pulled Youtube Metadata on \"Thousand Miles\" \n",
      "[I 240517 11:16:57 query_youtube:81] Pulled Youtube Metadata on \"You\" \n",
      "[I 240517 11:16:58 query_youtube:81] Pulled Youtube Metadata on \"Handstand\" \n",
      "[I 240517 11:16:58 query_youtube:81] Pulled Youtube Metadata on \"River\" \n",
      "[I 240517 11:16:58 query_youtube:81] Pulled Youtube Metadata on \"Violet Chemistry\" \n",
      "[I 240517 11:16:58 query_youtube:81] Pulled Youtube Metadata on \"Muddy Feet\" \n",
      "[I 240517 11:16:58 query_youtube:81] Pulled Youtube Metadata on \"Wildcard\" \n",
      "[I 240517 11:16:58 query_youtube:81] Pulled Youtube Metadata on \"Island\" \n",
      "[I 240517 11:16:58 query_youtube:81] Pulled Youtube Metadata on \"Wonder Woman\" \n",
      "[I 240517 11:16:59 query_youtube:81] Pulled Youtube Metadata on \"Flowers (Demo)\" \n",
      "[I 240517 11:16:59 3421666486:16] Pulling data from playlist Plastic Hearts\n",
      "[I 240517 11:16:59 query_youtube:81] Pulled Youtube Metadata on \"WTF Do I Know\" \n",
      "[I 240517 11:16:59 query_youtube:81] Pulled Youtube Metadata on \"Plastic Hearts\" \n",
      "[I 240517 11:16:59 query_youtube:81] Pulled Youtube Metadata on \"Angels Like You\" \n",
      "[I 240517 11:16:59 query_youtube:81] Pulled Youtube Metadata on \"Prisoner\" \n",
      "[I 240517 11:16:59 query_youtube:81] Pulled Youtube Metadata on \"Gimme What I Want\" \n",
      "[I 240517 11:16:59 query_youtube:81] Pulled Youtube Metadata on \"Night Crawling\" \n",
      "[I 240517 11:16:59 query_youtube:81] Pulled Youtube Metadata on \"Midnight Sky\" \n",
      "[I 240517 11:17:00 query_youtube:81] Pulled Youtube Metadata on \"High\" \n",
      "[I 240517 11:17:00 query_youtube:81] Pulled Youtube Metadata on \"Hate Me\" \n",
      "[I 240517 11:17:00 query_youtube:81] Pulled Youtube Metadata on \"Bad Karma\" \n",
      "[I 240517 11:17:00 query_youtube:81] Pulled Youtube Metadata on \"Never Be Me\" \n",
      "[I 240517 11:17:00 query_youtube:81] Pulled Youtube Metadata on \"Golden G String\" \n",
      "[I 240517 11:17:00 query_youtube:81] Pulled Youtube Metadata on \"Edge of Midnight (Midnight Sky Remix)\" \n",
      "[I 240517 11:17:00 query_youtube:81] Pulled Youtube Metadata on \"Heart Of Glass (Live from the iHeart Festival)\" \n",
      "[I 240517 11:17:00 query_youtube:81] Pulled Youtube Metadata on \"Zombie (Live from the NIVA Save Our Stages Festival)\" \n",
      "[I 240517 11:18:11 2699718391:15] Dataset Miley metadata created: https://app.datarobot.com/66477506a41309aff2e56cde\n",
      "[I 240517 11:18:54 2699718391:15] Dataset Miley statistics created: https://app.datarobot.com/66477533a41309aff2e56d57\n"
     ]
    }
   ],
   "source": [
    "metadata_dataset_name= config['storage']['metadata']\n",
    "stats_dataset_name = config['storage']['statistics']\n",
    "\n",
    "stats_id = check_if_dataset_exists(stats_dataset_name)\n",
    "if stats_id is not None:\n",
    "    current_stats = dr.Dataset.get(stats_id).get_as_dataframe()\n",
    "    last_updated = max(pd.to_datetime(current_stats[\"AS_OF_DATE\"]))\n",
    "else:\n",
    "    last_updated = dt.datetime.now() - dt.timedelta(weeks=1000)\n",
    "\n",
    "if last_updated == CURRENT_HOUR:\n",
    "    logger.info(\"Data already up to date. Not pulling new data.\")\n",
    "else:\n",
    "    stats_all_df, metadata_all_df = pd.DataFrame(), pd.DataFrame()\n",
    "    for playlist in config[\"playlists\"]:\n",
    "        logger.info(f\"Pulling data from playlist {playlist['name']}\")\n",
    "        videos = get_videos(playlist['id'], YOUTUBE_API_KEY)\n",
    "        stats, metadata = compile_data(videos, YOUTUBE_API_KEY, CURRENT_HOUR)\n",
    "        stats_df, metadata_df = convert_to_dataframe(stats, metadata)\n",
    "        stats_all_df = pd.concat([stats_all_df, stats_df])\n",
    "        metadata_all_df = pd.concat([metadata_all_df, metadata_df])\n",
    "        metadata_df[\"PLAYLIST_NAME\"] = playlist[\"name\"]\n",
    "\n",
    "    metadata_id = check_if_dataset_exists(metadata_dataset_name)\n",
    "    if metadata_id is None:\n",
    "        write_new_dataset_to_catalog(metadata_all_df, metadata_dataset_name)\n",
    "\n",
    "    if stats_id is None:\n",
    "        write_new_dataset_to_catalog(stats_all_df, stats_dataset_name)\n",
    "    else:\n",
    "        write_new_version_to_catalog(stats_all_df, stats_id)\n",
    "        remove_old_dataset_versions(CLIENT, stats_id)\n"
   ]
  },
  {
   "cell_type": "code",
   "execution_count": 4,
   "metadata": {},
   "outputs": [
    {
     "data": {
      "application/vnd.plotly.v1+json": {
       "config": {
        "plotlyServerURL": "https://plot.ly"
       },
       "data": [
        {
         "hovertemplate": "PA Rating 1-10=%{x}<br>Percentage of People=%{y}<extra></extra>",
         "legendgroup": "",
         "line": {
          "color": "#636efa",
          "dash": "solid"
         },
         "marker": {
          "symbol": "circle"
         },
         "mode": "lines",
         "name": "",
         "orientation": "v",
         "showlegend": false,
         "type": "scatter",
         "x": [
          1,
          2,
          3,
          4,
          5,
          6,
          7,
          8,
          9,
          10
         ],
         "xaxis": "x",
         "y": [
          1,
          4,
          10,
          15,
          20,
          20,
          15,
          10,
          4,
          1
         ],
         "yaxis": "y"
        }
       ],
       "layout": {
        "legend": {
         "tracegroupgap": 0
        },
        "template": {
         "data": {
          "bar": [
           {
            "error_x": {
             "color": "#2a3f5f"
            },
            "error_y": {
             "color": "#2a3f5f"
            },
            "marker": {
             "line": {
              "color": "#E5ECF6",
              "width": 0.5
             },
             "pattern": {
              "fillmode": "overlay",
              "size": 10,
              "solidity": 0.2
             }
            },
            "type": "bar"
           }
          ],
          "barpolar": [
           {
            "marker": {
             "line": {
              "color": "#E5ECF6",
              "width": 0.5
             },
             "pattern": {
              "fillmode": "overlay",
              "size": 10,
              "solidity": 0.2
             }
            },
            "type": "barpolar"
           }
          ],
          "carpet": [
           {
            "aaxis": {
             "endlinecolor": "#2a3f5f",
             "gridcolor": "white",
             "linecolor": "white",
             "minorgridcolor": "white",
             "startlinecolor": "#2a3f5f"
            },
            "baxis": {
             "endlinecolor": "#2a3f5f",
             "gridcolor": "white",
             "linecolor": "white",
             "minorgridcolor": "white",
             "startlinecolor": "#2a3f5f"
            },
            "type": "carpet"
           }
          ],
          "choropleth": [
           {
            "colorbar": {
             "outlinewidth": 0,
             "ticks": ""
            },
            "type": "choropleth"
           }
          ],
          "contour": [
           {
            "colorbar": {
             "outlinewidth": 0,
             "ticks": ""
            },
            "colorscale": [
             [
              0,
              "#0d0887"
             ],
             [
              0.1111111111111111,
              "#46039f"
             ],
             [
              0.2222222222222222,
              "#7201a8"
             ],
             [
              0.3333333333333333,
              "#9c179e"
             ],
             [
              0.4444444444444444,
              "#bd3786"
             ],
             [
              0.5555555555555556,
              "#d8576b"
             ],
             [
              0.6666666666666666,
              "#ed7953"
             ],
             [
              0.7777777777777778,
              "#fb9f3a"
             ],
             [
              0.8888888888888888,
              "#fdca26"
             ],
             [
              1,
              "#f0f921"
             ]
            ],
            "type": "contour"
           }
          ],
          "contourcarpet": [
           {
            "colorbar": {
             "outlinewidth": 0,
             "ticks": ""
            },
            "type": "contourcarpet"
           }
          ],
          "heatmap": [
           {
            "colorbar": {
             "outlinewidth": 0,
             "ticks": ""
            },
            "colorscale": [
             [
              0,
              "#0d0887"
             ],
             [
              0.1111111111111111,
              "#46039f"
             ],
             [
              0.2222222222222222,
              "#7201a8"
             ],
             [
              0.3333333333333333,
              "#9c179e"
             ],
             [
              0.4444444444444444,
              "#bd3786"
             ],
             [
              0.5555555555555556,
              "#d8576b"
             ],
             [
              0.6666666666666666,
              "#ed7953"
             ],
             [
              0.7777777777777778,
              "#fb9f3a"
             ],
             [
              0.8888888888888888,
              "#fdca26"
             ],
             [
              1,
              "#f0f921"
             ]
            ],
            "type": "heatmap"
           }
          ],
          "heatmapgl": [
           {
            "colorbar": {
             "outlinewidth": 0,
             "ticks": ""
            },
            "colorscale": [
             [
              0,
              "#0d0887"
             ],
             [
              0.1111111111111111,
              "#46039f"
             ],
             [
              0.2222222222222222,
              "#7201a8"
             ],
             [
              0.3333333333333333,
              "#9c179e"
             ],
             [
              0.4444444444444444,
              "#bd3786"
             ],
             [
              0.5555555555555556,
              "#d8576b"
             ],
             [
              0.6666666666666666,
              "#ed7953"
             ],
             [
              0.7777777777777778,
              "#fb9f3a"
             ],
             [
              0.8888888888888888,
              "#fdca26"
             ],
             [
              1,
              "#f0f921"
             ]
            ],
            "type": "heatmapgl"
           }
          ],
          "histogram": [
           {
            "marker": {
             "pattern": {
              "fillmode": "overlay",
              "size": 10,
              "solidity": 0.2
             }
            },
            "type": "histogram"
           }
          ],
          "histogram2d": [
           {
            "colorbar": {
             "outlinewidth": 0,
             "ticks": ""
            },
            "colorscale": [
             [
              0,
              "#0d0887"
             ],
             [
              0.1111111111111111,
              "#46039f"
             ],
             [
              0.2222222222222222,
              "#7201a8"
             ],
             [
              0.3333333333333333,
              "#9c179e"
             ],
             [
              0.4444444444444444,
              "#bd3786"
             ],
             [
              0.5555555555555556,
              "#d8576b"
             ],
             [
              0.6666666666666666,
              "#ed7953"
             ],
             [
              0.7777777777777778,
              "#fb9f3a"
             ],
             [
              0.8888888888888888,
              "#fdca26"
             ],
             [
              1,
              "#f0f921"
             ]
            ],
            "type": "histogram2d"
           }
          ],
          "histogram2dcontour": [
           {
            "colorbar": {
             "outlinewidth": 0,
             "ticks": ""
            },
            "colorscale": [
             [
              0,
              "#0d0887"
             ],
             [
              0.1111111111111111,
              "#46039f"
             ],
             [
              0.2222222222222222,
              "#7201a8"
             ],
             [
              0.3333333333333333,
              "#9c179e"
             ],
             [
              0.4444444444444444,
              "#bd3786"
             ],
             [
              0.5555555555555556,
              "#d8576b"
             ],
             [
              0.6666666666666666,
              "#ed7953"
             ],
             [
              0.7777777777777778,
              "#fb9f3a"
             ],
             [
              0.8888888888888888,
              "#fdca26"
             ],
             [
              1,
              "#f0f921"
             ]
            ],
            "type": "histogram2dcontour"
           }
          ],
          "mesh3d": [
           {
            "colorbar": {
             "outlinewidth": 0,
             "ticks": ""
            },
            "type": "mesh3d"
           }
          ],
          "parcoords": [
           {
            "line": {
             "colorbar": {
              "outlinewidth": 0,
              "ticks": ""
             }
            },
            "type": "parcoords"
           }
          ],
          "pie": [
           {
            "automargin": true,
            "type": "pie"
           }
          ],
          "scatter": [
           {
            "fillpattern": {
             "fillmode": "overlay",
             "size": 10,
             "solidity": 0.2
            },
            "type": "scatter"
           }
          ],
          "scatter3d": [
           {
            "line": {
             "colorbar": {
              "outlinewidth": 0,
              "ticks": ""
             }
            },
            "marker": {
             "colorbar": {
              "outlinewidth": 0,
              "ticks": ""
             }
            },
            "type": "scatter3d"
           }
          ],
          "scattercarpet": [
           {
            "marker": {
             "colorbar": {
              "outlinewidth": 0,
              "ticks": ""
             }
            },
            "type": "scattercarpet"
           }
          ],
          "scattergeo": [
           {
            "marker": {
             "colorbar": {
              "outlinewidth": 0,
              "ticks": ""
             }
            },
            "type": "scattergeo"
           }
          ],
          "scattergl": [
           {
            "marker": {
             "colorbar": {
              "outlinewidth": 0,
              "ticks": ""
             }
            },
            "type": "scattergl"
           }
          ],
          "scattermapbox": [
           {
            "marker": {
             "colorbar": {
              "outlinewidth": 0,
              "ticks": ""
             }
            },
            "type": "scattermapbox"
           }
          ],
          "scatterpolar": [
           {
            "marker": {
             "colorbar": {
              "outlinewidth": 0,
              "ticks": ""
             }
            },
            "type": "scatterpolar"
           }
          ],
          "scatterpolargl": [
           {
            "marker": {
             "colorbar": {
              "outlinewidth": 0,
              "ticks": ""
             }
            },
            "type": "scatterpolargl"
           }
          ],
          "scatterternary": [
           {
            "marker": {
             "colorbar": {
              "outlinewidth": 0,
              "ticks": ""
             }
            },
            "type": "scatterternary"
           }
          ],
          "surface": [
           {
            "colorbar": {
             "outlinewidth": 0,
             "ticks": ""
            },
            "colorscale": [
             [
              0,
              "#0d0887"
             ],
             [
              0.1111111111111111,
              "#46039f"
             ],
             [
              0.2222222222222222,
              "#7201a8"
             ],
             [
              0.3333333333333333,
              "#9c179e"
             ],
             [
              0.4444444444444444,
              "#bd3786"
             ],
             [
              0.5555555555555556,
              "#d8576b"
             ],
             [
              0.6666666666666666,
              "#ed7953"
             ],
             [
              0.7777777777777778,
              "#fb9f3a"
             ],
             [
              0.8888888888888888,
              "#fdca26"
             ],
             [
              1,
              "#f0f921"
             ]
            ],
            "type": "surface"
           }
          ],
          "table": [
           {
            "cells": {
             "fill": {
              "color": "#EBF0F8"
             },
             "line": {
              "color": "white"
             }
            },
            "header": {
             "fill": {
              "color": "#C8D4E3"
             },
             "line": {
              "color": "white"
             }
            },
            "type": "table"
           }
          ]
         },
         "layout": {
          "annotationdefaults": {
           "arrowcolor": "#2a3f5f",
           "arrowhead": 0,
           "arrowwidth": 1
          },
          "autotypenumbers": "strict",
          "coloraxis": {
           "colorbar": {
            "outlinewidth": 0,
            "ticks": ""
           }
          },
          "colorscale": {
           "diverging": [
            [
             0,
             "#8e0152"
            ],
            [
             0.1,
             "#c51b7d"
            ],
            [
             0.2,
             "#de77ae"
            ],
            [
             0.3,
             "#f1b6da"
            ],
            [
             0.4,
             "#fde0ef"
            ],
            [
             0.5,
             "#f7f7f7"
            ],
            [
             0.6,
             "#e6f5d0"
            ],
            [
             0.7,
             "#b8e186"
            ],
            [
             0.8,
             "#7fbc41"
            ],
            [
             0.9,
             "#4d9221"
            ],
            [
             1,
             "#276419"
            ]
           ],
           "sequential": [
            [
             0,
             "#0d0887"
            ],
            [
             0.1111111111111111,
             "#46039f"
            ],
            [
             0.2222222222222222,
             "#7201a8"
            ],
            [
             0.3333333333333333,
             "#9c179e"
            ],
            [
             0.4444444444444444,
             "#bd3786"
            ],
            [
             0.5555555555555556,
             "#d8576b"
            ],
            [
             0.6666666666666666,
             "#ed7953"
            ],
            [
             0.7777777777777778,
             "#fb9f3a"
            ],
            [
             0.8888888888888888,
             "#fdca26"
            ],
            [
             1,
             "#f0f921"
            ]
           ],
           "sequentialminus": [
            [
             0,
             "#0d0887"
            ],
            [
             0.1111111111111111,
             "#46039f"
            ],
            [
             0.2222222222222222,
             "#7201a8"
            ],
            [
             0.3333333333333333,
             "#9c179e"
            ],
            [
             0.4444444444444444,
             "#bd3786"
            ],
            [
             0.5555555555555556,
             "#d8576b"
            ],
            [
             0.6666666666666666,
             "#ed7953"
            ],
            [
             0.7777777777777778,
             "#fb9f3a"
            ],
            [
             0.8888888888888888,
             "#fdca26"
            ],
            [
             1,
             "#f0f921"
            ]
           ]
          },
          "colorway": [
           "#636efa",
           "#EF553B",
           "#00cc96",
           "#ab63fa",
           "#FFA15A",
           "#19d3f3",
           "#FF6692",
           "#B6E880",
           "#FF97FF",
           "#FECB52"
          ],
          "font": {
           "color": "#2a3f5f"
          },
          "geo": {
           "bgcolor": "white",
           "lakecolor": "white",
           "landcolor": "#E5ECF6",
           "showlakes": true,
           "showland": true,
           "subunitcolor": "white"
          },
          "hoverlabel": {
           "align": "left"
          },
          "hovermode": "closest",
          "mapbox": {
           "style": "light"
          },
          "paper_bgcolor": "white",
          "plot_bgcolor": "#E5ECF6",
          "polar": {
           "angularaxis": {
            "gridcolor": "white",
            "linecolor": "white",
            "ticks": ""
           },
           "bgcolor": "#E5ECF6",
           "radialaxis": {
            "gridcolor": "white",
            "linecolor": "white",
            "ticks": ""
           }
          },
          "scene": {
           "xaxis": {
            "backgroundcolor": "#E5ECF6",
            "gridcolor": "white",
            "gridwidth": 2,
            "linecolor": "white",
            "showbackground": true,
            "ticks": "",
            "zerolinecolor": "white"
           },
           "yaxis": {
            "backgroundcolor": "#E5ECF6",
            "gridcolor": "white",
            "gridwidth": 2,
            "linecolor": "white",
            "showbackground": true,
            "ticks": "",
            "zerolinecolor": "white"
           },
           "zaxis": {
            "backgroundcolor": "#E5ECF6",
            "gridcolor": "white",
            "gridwidth": 2,
            "linecolor": "white",
            "showbackground": true,
            "ticks": "",
            "zerolinecolor": "white"
           }
          },
          "shapedefaults": {
           "line": {
            "color": "#2a3f5f"
           }
          },
          "ternary": {
           "aaxis": {
            "gridcolor": "white",
            "linecolor": "white",
            "ticks": ""
           },
           "baxis": {
            "gridcolor": "white",
            "linecolor": "white",
            "ticks": ""
           },
           "bgcolor": "#E5ECF6",
           "caxis": {
            "gridcolor": "white",
            "linecolor": "white",
            "ticks": ""
           }
          },
          "title": {
           "x": 0.05
          },
          "xaxis": {
           "automargin": true,
           "gridcolor": "white",
           "linecolor": "white",
           "ticks": "",
           "title": {
            "standoff": 15
           },
           "zerolinecolor": "white",
           "zerolinewidth": 2
          },
          "yaxis": {
           "automargin": true,
           "gridcolor": "white",
           "linecolor": "white",
           "ticks": "",
           "title": {
            "standoff": 15
           },
           "zerolinecolor": "white",
           "zerolinewidth": 2
          }
         }
        },
        "title": {
         "text": "Distribution of what people look like <br>(you're not allowed to be a 12)"
        },
        "width": 500,
        "xaxis": {
         "anchor": "y",
         "domain": [
          0,
          1
         ],
         "title": {
          "text": "PA Rating 1-10"
         }
        },
        "yaxis": {
         "anchor": "x",
         "domain": [
          0,
          1
         ],
         "title": {
          "text": "Percentage of People"
         }
        }
       }
      }
     },
     "metadata": {},
     "output_type": "display_data"
    }
   ],
   "source": [
    "import plotly.express as px\n",
    "one_five = [1, 4, 10, 15, 20]\n",
    "x_label = \"PA Rating 1-10\"\n",
    "y_label = \"Percentage of People\"\n",
    "people = pd.DataFrame(\n",
    "    {x_label: list(range(1, 11)),\n",
    "    y_label: one_five + one_five[::-1]\n",
    "    }\n",
    ")\n",
    "\n",
    "px.line(people, x=x_label, y=y_label, width=500, title=\"Distribution of what people look like <br>(you're not allowed to be a 12)\")"
   ]
  }
 ],
 "metadata": {
  "kernelspec": {
   "display_name": "general_env",
   "language": "python",
   "name": "python3"
  },
  "language_info": {
   "codemirror_mode": {
    "name": "ipython",
    "version": 3
   },
   "file_extension": ".py",
   "mimetype": "text/x-python",
   "name": "python",
   "nbconvert_exporter": "python",
   "pygments_lexer": "ipython3",
   "version": "3.10.4"
  }
 },
 "nbformat": 4,
 "nbformat_minor": 2
}
